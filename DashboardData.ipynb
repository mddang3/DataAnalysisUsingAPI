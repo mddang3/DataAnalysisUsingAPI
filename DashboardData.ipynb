{
 "cells": [
  {
   "cell_type": "code",
   "execution_count": 1,
   "id": "1a2d91c2-1ba8-4354-962f-f9a5f135d4f3",
   "metadata": {},
   "outputs": [],
   "source": [
    "import pandas as pd"
   ]
  },
  {
   "cell_type": "code",
   "execution_count": 2,
   "id": "e12784c4-72de-4c2c-bb67-5c8e8e7344f1",
   "metadata": {},
   "outputs": [],
   "source": [
    "df = pd.read_csv(\"https://cf-courses-data.s3.us.cloud-object-storage.appdomain.cloud/IBM-DA0321EN-SkillsNetwork/LargeData/m1_survey_data.csv\")\n"
   ]
  },
  {
   "cell_type": "code",
   "execution_count": 3,
   "id": "7db87304-0a7d-46d7-8ce9-163addaa3819",
   "metadata": {},
   "outputs": [],
   "source": [
    "#Drop duplicates\n",
    "df = df.drop_duplicates()"
   ]
  },
  {
   "cell_type": "code",
   "execution_count": 4,
   "id": "143d6260-77bb-4980-ad86-94767ace8452",
   "metadata": {},
   "outputs": [
    {
     "data": {
      "text/plain": [
       "Respondent        0\n",
       "MainBranch        0\n",
       "Hobbyist          0\n",
       "OpenSourcer       0\n",
       "OpenSource       81\n",
       "               ... \n",
       "Sexuality       542\n",
       "Ethnicity       675\n",
       "Dependents      140\n",
       "SurveyLength     19\n",
       "SurveyEase       14\n",
       "Length: 85, dtype: int64"
      ]
     },
     "execution_count": 4,
     "metadata": {},
     "output_type": "execute_result"
    }
   ],
   "source": [
    "df.isnull().sum()"
   ]
  },
  {
   "cell_type": "code",
   "execution_count": 5,
   "id": "0f112a69-8930-483a-a9f2-8b69a732d858",
   "metadata": {},
   "outputs": [],
   "source": [
    "#Replacing null values\n",
    "df['WorkLoc'].fillna(df['WorkLoc'].mode(), inplace=True)\n",
    "df['Employment'].fillna(df['WorkLoc'].mode(), inplace=True)\n",
    "df['UndergradMajor'].fillna(df['UndergradMajor'].mode(), inplace=True)\n",
    "\n",
    "#Drop all other null values\n",
    "df.dropna(inplace=True)"
   ]
  },
  {
   "cell_type": "code",
   "execution_count": 6,
   "id": "abb9899f-1af7-45a9-ac06-d5958e482232",
   "metadata": {},
   "outputs": [
    {
     "data": {
      "text/plain": [
       "6        0\n",
       "15       0\n",
       "17       0\n",
       "36       0\n",
       "47       0\n",
       "        ..\n",
       "11474    0\n",
       "11475    0\n",
       "11478    0\n",
       "11499    0\n",
       "11538    0\n",
       "Name: NormalizedAnnualCompensation, Length: 1008, dtype: int64"
      ]
     },
     "execution_count": 6,
     "metadata": {},
     "output_type": "execute_result"
    }
   ],
   "source": [
    "df['NormalizedAnnualCompensation']=0\n",
    "pd.to_numeric(df['NormalizedAnnualCompensation'])"
   ]
  },
  {
   "cell_type": "code",
   "execution_count": 7,
   "id": "3b49ccc5-b4ae-4bf6-b430-7b28f5c6d258",
   "metadata": {},
   "outputs": [],
   "source": [
    "for row in df['NormalizedAnnualCompensation']:\n",
    "    if df['CompFreq'].any()=='Yearly':\n",
    "        df['NormalizedAnnualCompensation']=(df['CompTotal'])\n",
    "    elif df['CompFreq'].any()=='Monthly':\n",
    "        df['NormalizedAnnualCompensation']=(df['CompTotal']*12)\n",
    "    elif df['CompFreq'].any()=='Weekly':\n",
    "        df['NormalizedAnnualCompensation']=(df['CompTotal']*52)"
   ]
  },
  {
   "cell_type": "code",
   "execution_count": 8,
   "id": "eb9b7116-4272-4f71-bbf4-e6d4b3df253b",
   "metadata": {},
   "outputs": [
    {
     "data": {
      "text/plain": [
       "6          36000.0\n",
       "15       1872000.0\n",
       "17         76800.0\n",
       "36       8400000.0\n",
       "47       1860000.0\n",
       "           ...    \n",
       "11474     853020.0\n",
       "11475     372000.0\n",
       "11478       9600.0\n",
       "11499    1080000.0\n",
       "11538     960000.0\n",
       "Name: NormalizedAnnualCompensation, Length: 1008, dtype: float64"
      ]
     },
     "execution_count": 8,
     "metadata": {},
     "output_type": "execute_result"
    }
   ],
   "source": [
    "df['NormalizedAnnualCompensation']"
   ]
  }
 ],
 "metadata": {
  "kernelspec": {
   "display_name": "Python 3",
   "language": "python",
   "name": "python3"
  },
  "language_info": {
   "codemirror_mode": {
    "name": "ipython",
    "version": 3
   },
   "file_extension": ".py",
   "mimetype": "text/x-python",
   "name": "python",
   "nbconvert_exporter": "python",
   "pygments_lexer": "ipython3",
   "version": "3.9.4"
  }
 },
 "nbformat": 4,
 "nbformat_minor": 5
}
