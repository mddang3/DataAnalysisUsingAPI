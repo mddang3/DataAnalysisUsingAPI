{
 "cells": [
  {
   "cell_type": "code",
   "execution_count": 6,
   "id": "5db98fd1-07ba-4209-a004-d79d14e5b0c6",
   "metadata": {},
   "outputs": [],
   "source": [
    "import requests\n",
    "import pandas"
   ]
  },
  {
   "cell_type": "code",
   "execution_count": 7,
   "id": "a6131fce-3b5a-4b9b-91a9-d9581ac269e4",
   "metadata": {},
   "outputs": [],
   "source": [
    "baseurl = \"https://jobs.github.com/positions.json\"\n",
    "secondurl = \"https://jobs.github.com/positions.json?page=2\"\n",
    "thirdurl = \"https://jobs.github.com/positions.json?page=3\"\n",
    "fourthurl = \"https://jobs.github.com/positions.json?page=4\"\n",
    "fifthurl = \"https://jobs.github.com/positions.json?page=5\"\n",
    "sixthurl = \"https://jobs.github.com/positions.json?page=6\""
   ]
  },
  {
   "cell_type": "code",
   "execution_count": 8,
   "id": "b611d427-74bd-43ad-a1c2-d228eebb03de",
   "metadata": {},
   "outputs": [],
   "source": [
    "r1 = requests.get(baseurl)\n",
    "data = r1.json()\n",
    "r2 = requests.get(secondurl)\n",
    "data2 = r2.json()\n",
    "r3 = requests.get(thirdurl)\n",
    "data3 = r3.json()\n",
    "r4 = requests.get(fourthurl)\n",
    "data4 = r4.json()\n",
    "r5 = requests.get(fifthurl)\n",
    "data5 = r5.json()\n",
    "r6 = requests.get(sixthurl)\n",
    "data6 = r6.json()"
   ]
  },
  {
   "cell_type": "code",
   "execution_count": 9,
   "id": "cddb1a07-6cd2-4ab9-90bb-c45968e40c4c",
   "metadata": {},
   "outputs": [],
   "source": [
    "def get_number_of_jobs(technology):\n",
    "    number_of_jobs = 0\n",
    "    for value in data:\n",
    "        if technology in value['description'].lower():\n",
    "            number_of_jobs = number_of_jobs + 1\n",
    "    for value in data2:\n",
    "        if technology in value['description'].lower():\n",
    "            number_of_jobs = number_of_jobs + 1\n",
    "    for value in data3:\n",
    "        if technology in value['description'].lower():\n",
    "            number_of_jobs = number_of_jobs + 1\n",
    "    for value in data4:\n",
    "        if technology in value['description'].lower():\n",
    "            number_of_jobs = number_of_jobs + 1\n",
    "    for value in data5:\n",
    "        if technology in value['description'].lower():\n",
    "            number_of_jobs = number_of_jobs + 1\n",
    "    for value in data6:\n",
    "        if technology in value['description'].lower():\n",
    "            number_of_jobs = number_of_jobs + 1\n",
    "    return number_of_jobs"
   ]
  },
  {
   "cell_type": "code",
   "execution_count": 11,
   "id": "2b67baa1-10a2-4b26-ae75-daa92ff780d3",
   "metadata": {},
   "outputs": [
    {
     "data": {
      "image/png": "[encoded data removed]",
      "text/plain": [
       "<Figure size 432x288 with 1 Axes>"
      ]
     },
     "metadata": {
      "needs_background": "light"
     },
     "output_type": "display_data"
    }
   ],
   "source": [
    "technologies = ['c', 'c#', 'c++', 'java', 'javascript', 'python',\n",
    "                'scala', 'oracle', 'sql server',\n",
    "                'mysql server', 'postgresql', 'mongodb']\n",
    "\n",
    "d = {'Technology': ['c', 'c#', 'c++', 'java', 'javascript',\n",
    "                    'python', 'scala', 'oracle', 'sql server',\n",
    "                    'mysql server', 'postgresql', 'mongodb'],\n",
    "     'Number of Job Postings': []}\n",
    "\n",
    "for technology in technologies:\n",
    "    d['Number of Job Postings'].append(get_number_of_jobs(technology))\n",
    "\n",
    "df = pandas.DataFrame(data=d)\n",
    "df.sort_values(by=['Number of Job Postings'], ascending=True, inplace=True)\n",
    "df.set_index('Technology', inplace=True)\n",
    "ax = df.plot(kind='barh', legend=False, title='Number of Job Posting based on Technology')"
   ]
  }
 ],
 "metadata": {
  "kernelspec": {
   "display_name": "Python 3",
   "language": "python",
   "name": "python3"
  },
  "language_info": {
   "codemirror_mode": {
    "name": "ipython",
    "version": 3
   },
   "file_extension": ".py",
   "mimetype": "text/x-python",
   "name": "python",
   "nbconvert_exporter": "python",
   "pygments_lexer": "ipython3",
   "version": "3.9.4"
  }
 },
 "nbformat": 4,
 "nbformat_minor": 5
}
