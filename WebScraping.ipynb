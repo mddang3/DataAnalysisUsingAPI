{
 "cells": [
  {
   "cell_type": "code",
   "execution_count": 2,
   "id": "05a78a41-ad5f-4eb3-bc1d-f22a98501814",
   "metadata": {},
   "outputs": [],
   "source": [
    "import warnings\n",
    "warnings.simplefilter(action='ignore', category=FutureWarning)"
   ]
  },
  {
   "cell_type": "code",
   "execution_count": 3,
   "id": "52df79c1-e484-4270-a661-e6f1110dbbb8",
   "metadata": {},
   "outputs": [],
   "source": [
    "from bs4 import BeautifulSoup\n",
    "import requests\n",
    "import pandas"
   ]
  },
  {
   "cell_type": "code",
   "execution_count": 4,
   "id": "2ba14da3-3af0-41f3-a1a9-4f4992f04e2a",
   "metadata": {},
   "outputs": [],
   "source": [
    "url = \"https://cf-courses-data.s3.us.cloud-object-storage.appdomain.cloud/IBM-DA0321EN-SkillsNetwork/labs/datasets/Programming_Languages.html\"\n",
    "data = requests.get(url).text\n",
    "soup = BeautifulSoup(data, \"html5lib\")"
   ]
  },
  {
   "cell_type": "code",
   "execution_count": 11,
   "id": "bd34781d-c344-4b80-b941-63c5dc4f07bf",
   "metadata": {},
   "outputs": [
    {
     "data": {
      "text/plain": [
       "<AxesSubplot:title={'center':'Average Annual Salary by Language'}, ylabel='Language'>"
      ]
     },
     "execution_count": 11,
     "metadata": {},
     "output_type": "execute_result"
    },
    {
     "data": {
      "image/png": "[encoded data removed]",
      "text/plain": [
       "<Figure size 432x288 with 1 Axes>"
      ]
     },
     "metadata": {
      "needs_background": "light"
     },
     "output_type": "display_data"
    }
   ],
   "source": [
    "table = soup.find('table')\n",
    "\n",
    "scraped_data = {'Language': [], 'Average Annual Salary': []}\n",
    "for row in table.find_all('tr'):\n",
    "    cols = row.find_all('td')\n",
    "    language_name = cols[1].getText()\n",
    "    annual_average_salary = cols[3].getText()\n",
    "    scraped_data['Language'].append(language_name)\n",
    "    scraped_data['Average Annual Salary'].append(annual_average_salary)\n",
    "    \n",
    "scraped_data['Language'].remove('Language')\n",
    "scraped_data['Average Annual Salary'].remove('Average Annual Salary')\n",
    "\n",
    "df = pandas.DataFrame(data=scraped_data)\n",
    "df['Average Annual Salary'] = df['Average Annual Salary'].str.replace('$','')\n",
    "df['Average Annual Salary'] = df['Average Annual Salary'].str.replace(',','')\n",
    "df['Average Annual Salary'] = df['Average Annual Salary'].astype(int)\n",
    "df.sort_values(by=['Average Annual Salary'], inplace=True)\n",
    "\n",
    "df.plot(kind='barh', x='Language', y='Average Annual Salary', \n",
    "        title='Average Annual Salary by Language', legend=False,\n",
    "       )"
   ]
  },
  {
   "cell_type": "code",
   "execution_count": null,
   "id": "61981ae6-27b3-4f6e-969d-abc9f9372cd4",
   "metadata": {},
   "outputs": [],
   "source": []
  }
 ],
 "metadata": {
  "kernelspec": {
   "display_name": "Python 3",
   "language": "python",
   "name": "python3"
  },
  "language_info": {
   "codemirror_mode": {
    "name": "ipython",
    "version": 3
   },
   "file_extension": ".py",
   "mimetype": "text/x-python",
   "name": "python",
   "nbconvert_exporter": "python",
   "pygments_lexer": "ipython3",
   "version": "3.9.4"
  }
 },
 "nbformat": 4,
 "nbformat_minor": 5
}
